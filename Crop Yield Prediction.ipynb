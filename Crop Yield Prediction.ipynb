{
 "cells": [
  {
   "cell_type": "markdown",
   "id": "b6d7daeb",
   "metadata": {},
   "source": [
    "# Introduction\n"
   ]
  },
  {
   "cell_type": "markdown",
   "id": "5b106699",
   "metadata": {},
   "source": [
    "Crop yield prediction is an essential predictive analytics technique in the agriculture industry. It is an agricultural practice that can help farmers and farming businesses predict crop yield in a particular season when to plant a crop, and when to harvest for better crop yield. Predictive analytics is a powerful tool that can help to improve decision-making in the agriculture industry. It can be used for crop yield prediction, risk mitigation, reducing the cost of fertilizers, etc. The crop yield prediction using ML and flask deployment will find analysis on weather conditions, soil quality, fruit set, fruit mass, etc."
   ]
  },
  {
   "cell_type": "markdown",
   "id": "d0cf23a0",
   "metadata": {},
   "source": [
    "# Learning Objectives"
   ]
  },
  {
   "cell_type": "markdown",
   "id": "2c55a733",
   "metadata": {},
   "source": [
    "\n",
    "We will briefly go through the end-to-end project to predict crop yield using pollination simulation modeling.\n",
    "We will follow each step of the data science project lifecycle including data exploration, pre-processing, modeling, evaluation, and deployment.\n",
    "Finally, we will deploy the model using Flask API on a cloud service platform called render.\n",
    "So let’s get started with this exciting real-world problem statement."
   ]
  },
  {
   "cell_type": "markdown",
   "id": "d9eef34d",
   "metadata": {},
   "source": [
    "# Table of contents"
   ]
  },
  {
   "cell_type": "markdown",
   "id": "27fd46bf",
   "metadata": {},
   "source": [
    "1.Introduction\n",
    "2.Project Description of Crop Yield Prediction\n",
    "3.What is the Pollination Simulation Model?\n",
    "4.Problem Statement\n",
    "5.Pre-requisites\n",
    "6.Data Description\n",
    "7.Loading Dataset\n",
    "8.Exploratory Data Analysis\n",
    "9.Data Pre-processing and Data Preparation\n",
    "10.Modeling and Evaluation\n",
    "11.Deployment of the Model Using FlaskAPI\n",
    "12.Conclusion\n",
    "13.Frequently Asked Questions"
   ]
  },
  {
   "cell_type": "markdown",
   "id": "7c6e794f",
   "metadata": {},
   "source": [
    "# Project Description of Crop Yield Prediction\n"
   ]
  },
  {
   "cell_type": "markdown",
   "id": "06e0eff8",
   "metadata": {},
   "source": [
    "The dataset used for this project was generated using a spacial-explicit simulation computing model to analyze and study various factors that affect the wild-blue berry prediction including:\n",
    "\n",
    "Plant spatial arrangement\n",
    "Outcrossing and self-pollination\n",
    "Bee species compositions\n",
    "Weather conditions (in isolation and in combination) affect pollination efficiency and yield of the wild blueberry in the agricultural ecosystem.\n",
    "The simulation model has been validated by the field observation and experimental data collected in Maine, USA, and Canadian Maritimes during the last 30 years and now is a useful tool for hypothesis testing and estimation of wild blueberry yield prediction. This simulated data provides researchers with actual data collected from the field for various experiments on crop yield prediction as well as provides data for developers and data scientists to build real-world machine learning models for crop yield prediction."
   ]
  },
  {
   "cell_type": "markdown",
   "id": "bf20263f",
   "metadata": {},
   "source": [
    "# What is the Pollination Simulation Model?"
   ]
  },
  {
   "cell_type": "markdown",
   "id": "ae27884e",
   "metadata": {},
   "source": [
    "Pollination simulation modeling is the process of using computer models to simulate the process of pollination. There are various use cases of pollination simulation such as:\n",
    "Studying the effects of different factors on pollination, such as climate change, habitat loss, and pesticides\n",
    "Designing pollination-friendly landscapes\n",
    "Predicting the impact of pollination on crop yields\n",
    "Pollination simulation models can be used to study the movement of pollen grains between flowers, the timing of pollination events, and the effectiveness of different pollination strategies. This information can be used to improve pollination rates and crop yields which can further help farmers to produce crops effectively with optimal yield.\n",
    "\n",
    "Pollination simulation models are still under development, but they have the potential to play an important role in the future of agriculture. By understanding how pollination works, we can better protect and manage this essential process.\n",
    "\n",
    "In our project, we will use a dataset with various features like ‘clonesize’, ‘honeybee’, ‘RainingDays’, ‘AverageRainingDays’, etc., which were created using a pollination simulation process to estimate crop yield."
   ]
  },
  {
   "cell_type": "markdown",
   "id": "655f4360",
   "metadata": {},
   "source": [
    "# Problem Statement"
   ]
  },
  {
   "cell_type": "markdown",
   "id": "b052cbe0",
   "metadata": {},
   "source": [
    "In this project, our task is to classify yield variable (target feature) based on the other 17 features step-by-step by going through each day’s task. The evaluation metrics will be RMSE scored. We will deploy the model using Python’s Flask framework on a cloud-based platform."
   ]
  },
  {
   "cell_type": "markdown",
   "id": "c4cf9cfa",
   "metadata": {},
   "source": [
    "# Pre-requisites"
   ]
  },
  {
   "cell_type": "markdown",
   "id": "26fafaea",
   "metadata": {},
   "source": [
    "This project is well-suited for intermediate learners of data science and machine learning to build their portfolio projects. begineers in the field can take up this project if they are familiar with below skills:\n",
    "\n",
    "Knowledge of Python programming language, and machine learning algorithms using the scikit-learn library\n",
    "Basic understanding of website development using Python’s Flask framework\n",
    "Understanding of Regression evaluation metrics"
   ]
  },
  {
   "cell_type": "markdown",
   "id": "8e2e1ee0",
   "metadata": {},
   "source": [
    "# Data Description"
   ]
  },
  {
   "cell_type": "markdown",
   "id": "3e9f6355",
   "metadata": {},
   "source": [
    "In this section, we will look the each and every variable of the dataset for our project.\n",
    "\n",
    "Clonesize — m2 — The average blueberry clone size in the field\n",
    "Honeybee — bees/m2/min — Honeybee density in the field\n",
    "Bumbles — bees/m2/min — Bumblebee density in the field\n",
    "Andrena — bees/m2/min — Andrena bee density in the field\n",
    "Osmia — bees/m2/min — Osmia bee density in the field\n",
    "MaxOfUpperTRange — ℃ —The highest record of the upper band daily air temperature during the bloom season\n",
    "MinOfUpperTRange — ℃ — The lowest record of the upper band daily air temperature\n",
    "AverageOfUpperTRange — ℃ — The average of the upper band daily air temperature\n",
    "MaxOfLowerTRange — ℃ — The highest record of the lower band daily air temperature\n",
    "MinOfLowerTRange — ℃ — The lowest record of the lower band daily air temperature\n",
    "AverageOfLowerTRange — ℃ — The average of the lower band daily air temperature\n",
    "RainingDays — Day — The total number of days during the bloom season, each of which has precipitation larger than zero\n",
    "AverageRainingDays — Day — The average of rainy days in the entire bloom season\n",
    "Fruitset — Transitioning time of fruit set\n",
    "Fruitmass — Mass of the fruit set\n",
    "Seeds — Number of seeds in fruitset\n",
    "Yield — Crop yield (A target variable)"
   ]
  },
  {
   "cell_type": "markdown",
   "id": "ef0fcd7c",
   "metadata": {},
   "source": [
    "# What is the value of this data for crop prediction use-case?"
   ]
  },
  {
   "cell_type": "markdown",
   "id": "281277e0",
   "metadata": {},
   "source": [
    "This dataset provides practical information on wild blueberry plant spatial traits, bee species, and weather situations. Therefore, it enables researchers and developers to build machine learning models for early prediction of blueberry yield.\n",
    "This dataset can be essential for other researchers who have field observation data but wants to test and evaluate the performance of different machine learning algorithms by comparing the use of real data against computer simulation generated data as input in crop yield prediction.\n",
    "Educationalists at different levels can use the dataset for training machine learning classification or regression problems in the agricultural industry."
   ]
  },
  {
   "cell_type": "markdown",
   "id": "a12c748a",
   "metadata": {},
   "source": [
    "# Loading Dataset"
   ]
  },
  {
   "cell_type": "markdown",
   "id": "bbc45613",
   "metadata": {},
   "source": [
    "In this section, we will load the dataset in whichever environment you are working on. Load the dataset in the kaggle environment. Use the kaggle dataset or download it to your local machine and run it on the local environment.\n",
    "\n",
    "Dataset source: Click Here\n",
    "\n",
    "Let’s look at the code to load the dataset and load the libraries for the project."
   ]
  },
  {
   "cell_type": "code",
   "execution_count": 7,
   "id": "0f7b4cef",
   "metadata": {},
   "outputs": [],
   "source": [
    "import numpy as np # linear algebra\n",
    "import pandas as pd\n",
    "import matplotlib.pyplot as plt\n",
    "import seaborn as sns"
   ]
  },
  {
   "cell_type": "code",
   "execution_count": null,
   "id": "8549f6d4",
   "metadata": {},
   "outputs": [],
   "source": [
    "df = pd.read_csv(\"\", index_col='Row#')"
   ]
  }
 ],
 "metadata": {
  "kernelspec": {
   "display_name": "Python 3 (ipykernel)",
   "language": "python",
   "name": "python3"
  },
  "language_info": {
   "codemirror_mode": {
    "name": "ipython",
    "version": 3
   },
   "file_extension": ".py",
   "mimetype": "text/x-python",
   "name": "python",
   "nbconvert_exporter": "python",
   "pygments_lexer": "ipython3",
   "version": "3.9.13"
  }
 },
 "nbformat": 4,
 "nbformat_minor": 5
}
